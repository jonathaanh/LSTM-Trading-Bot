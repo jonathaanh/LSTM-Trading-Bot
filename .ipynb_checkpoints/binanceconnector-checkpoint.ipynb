{
 "cells": [
  {
   "cell_type": "code",
   "execution_count": 10,
   "metadata": {},
   "outputs": [
    {
     "name": "stdout",
     "output_type": "stream",
     "text": [
      "Requirement already satisfied: binance-connector in /Library/Frameworks/Python.framework/Versions/3.9/lib/python3.9/site-packages (1.17.0)\n",
      "Requirement already satisfied: pyOpenSSL>=19.0.0 in /Library/Frameworks/Python.framework/Versions/3.9/lib/python3.9/site-packages (from binance-connector) (22.0.0)\n",
      "Requirement already satisfied: Twisted>=21.2.0 in /Library/Frameworks/Python.framework/Versions/3.9/lib/python3.9/site-packages (from binance-connector) (22.8.0)\n",
      "Requirement already satisfied: autobahn>=21.2.1 in /Library/Frameworks/Python.framework/Versions/3.9/lib/python3.9/site-packages (from binance-connector) (22.7.1)\n",
      "Requirement already satisfied: requests>=2.25.1 in /Library/Frameworks/Python.framework/Versions/3.9/lib/python3.9/site-packages (from binance-connector) (2.25.1)\n",
      "Requirement already satisfied: service-identity>=21.1.0 in /Library/Frameworks/Python.framework/Versions/3.9/lib/python3.9/site-packages (from binance-connector) (21.1.0)\n",
      "Requirement already satisfied: txaio>=21.2.1 in /Library/Frameworks/Python.framework/Versions/3.9/lib/python3.9/site-packages (from autobahn>=21.2.1->binance-connector) (22.2.1)\n",
      "Requirement already satisfied: hyperlink>=21.0.0 in /Library/Frameworks/Python.framework/Versions/3.9/lib/python3.9/site-packages (from autobahn>=21.2.1->binance-connector) (21.0.0)\n",
      "Requirement already satisfied: setuptools in /Library/Frameworks/Python.framework/Versions/3.9/lib/python3.9/site-packages (from autobahn>=21.2.1->binance-connector) (49.2.1)\n",
      "Requirement already satisfied: cryptography>=3.4.6 in /Library/Frameworks/Python.framework/Versions/3.9/lib/python3.9/site-packages (from autobahn>=21.2.1->binance-connector) (38.0.1)\n",
      "Requirement already satisfied: cffi>=1.12 in /Library/Frameworks/Python.framework/Versions/3.9/lib/python3.9/site-packages (from cryptography>=3.4.6->autobahn>=21.2.1->binance-connector) (1.14.5)\n",
      "Requirement already satisfied: pycparser in /Library/Frameworks/Python.framework/Versions/3.9/lib/python3.9/site-packages (from cffi>=1.12->cryptography>=3.4.6->autobahn>=21.2.1->binance-connector) (2.20)\n",
      "Requirement already satisfied: idna>=2.5 in /Library/Frameworks/Python.framework/Versions/3.9/lib/python3.9/site-packages (from hyperlink>=21.0.0->autobahn>=21.2.1->binance-connector) (2.10)\n",
      "Requirement already satisfied: chardet<5,>=3.0.2 in /Library/Frameworks/Python.framework/Versions/3.9/lib/python3.9/site-packages (from requests>=2.25.1->binance-connector) (4.0.0)\n",
      "Requirement already satisfied: certifi>=2017.4.17 in /Library/Frameworks/Python.framework/Versions/3.9/lib/python3.9/site-packages (from requests>=2.25.1->binance-connector) (2020.12.5)\n",
      "Requirement already satisfied: urllib3<1.27,>=1.21.1 in /Library/Frameworks/Python.framework/Versions/3.9/lib/python3.9/site-packages (from requests>=2.25.1->binance-connector) (1.26.4)\n",
      "Requirement already satisfied: attrs>=19.1.0 in /Library/Frameworks/Python.framework/Versions/3.9/lib/python3.9/site-packages (from service-identity>=21.1.0->binance-connector) (21.2.0)\n",
      "Requirement already satisfied: six in /Library/Frameworks/Python.framework/Versions/3.9/lib/python3.9/site-packages (from service-identity>=21.1.0->binance-connector) (1.16.0)\n",
      "Requirement already satisfied: pyasn1-modules in /Library/Frameworks/Python.framework/Versions/3.9/lib/python3.9/site-packages (from service-identity>=21.1.0->binance-connector) (0.2.8)\n",
      "Requirement already satisfied: pyasn1 in /Library/Frameworks/Python.framework/Versions/3.9/lib/python3.9/site-packages (from service-identity>=21.1.0->binance-connector) (0.4.8)\n",
      "Requirement already satisfied: constantly>=15.1 in /Library/Frameworks/Python.framework/Versions/3.9/lib/python3.9/site-packages (from Twisted>=21.2.0->binance-connector) (15.1.0)\n",
      "Requirement already satisfied: Automat>=0.8.0 in /Library/Frameworks/Python.framework/Versions/3.9/lib/python3.9/site-packages (from Twisted>=21.2.0->binance-connector) (20.2.0)\n",
      "Requirement already satisfied: incremental>=21.3.0 in /Library/Frameworks/Python.framework/Versions/3.9/lib/python3.9/site-packages (from Twisted>=21.2.0->binance-connector) (21.3.0)\n",
      "Requirement already satisfied: zope.interface>=4.4.2 in /Library/Frameworks/Python.framework/Versions/3.9/lib/python3.9/site-packages (from Twisted>=21.2.0->binance-connector) (5.4.0)\n",
      "Requirement already satisfied: typing-extensions>=3.6.5 in /Library/Frameworks/Python.framework/Versions/3.9/lib/python3.9/site-packages (from Twisted>=21.2.0->binance-connector) (4.1.1)\n",
      "\u001b[33mWARNING: You are using pip version 21.2.2; however, version 22.2.2 is available.\n",
      "You should consider upgrading via the '/Library/Frameworks/Python.framework/Versions/3.9/bin/python3 -m pip install --upgrade pip' command.\u001b[0m\n",
      "Requirement already satisfied: IPython in /Library/Frameworks/Python.framework/Versions/3.9/lib/python3.9/site-packages (7.23.1)\n",
      "Requirement already satisfied: backcall in /Library/Frameworks/Python.framework/Versions/3.9/lib/python3.9/site-packages (from IPython) (0.2.0)\n",
      "Requirement already satisfied: appnope in /Library/Frameworks/Python.framework/Versions/3.9/lib/python3.9/site-packages (from IPython) (0.1.2)\n",
      "Requirement already satisfied: pexpect>4.3 in /Library/Frameworks/Python.framework/Versions/3.9/lib/python3.9/site-packages (from IPython) (4.8.0)\n",
      "Requirement already satisfied: prompt-toolkit!=3.0.0,!=3.0.1,<3.1.0,>=2.0.0 in /Library/Frameworks/Python.framework/Versions/3.9/lib/python3.9/site-packages (from IPython) (3.0.18)\n",
      "Requirement already satisfied: pygments in /Library/Frameworks/Python.framework/Versions/3.9/lib/python3.9/site-packages (from IPython) (2.9.0)\n",
      "Requirement already satisfied: pickleshare in /Library/Frameworks/Python.framework/Versions/3.9/lib/python3.9/site-packages (from IPython) (0.7.5)\n",
      "Requirement already satisfied: traitlets>=4.2 in /Library/Frameworks/Python.framework/Versions/3.9/lib/python3.9/site-packages (from IPython) (5.0.5)\n",
      "Requirement already satisfied: setuptools>=18.5 in /Library/Frameworks/Python.framework/Versions/3.9/lib/python3.9/site-packages (from IPython) (49.2.1)\n",
      "Requirement already satisfied: decorator in /Library/Frameworks/Python.framework/Versions/3.9/lib/python3.9/site-packages (from IPython) (5.0.9)\n",
      "Requirement already satisfied: jedi>=0.16 in /Library/Frameworks/Python.framework/Versions/3.9/lib/python3.9/site-packages (from IPython) (0.18.0)\n",
      "Requirement already satisfied: matplotlib-inline in /Library/Frameworks/Python.framework/Versions/3.9/lib/python3.9/site-packages (from IPython) (0.1.2)\n",
      "Requirement already satisfied: parso<0.9.0,>=0.8.0 in /Library/Frameworks/Python.framework/Versions/3.9/lib/python3.9/site-packages (from jedi>=0.16->IPython) (0.8.2)\n",
      "Requirement already satisfied: ptyprocess>=0.5 in /Library/Frameworks/Python.framework/Versions/3.9/lib/python3.9/site-packages (from pexpect>4.3->IPython) (0.7.0)\n",
      "Requirement already satisfied: wcwidth in /Library/Frameworks/Python.framework/Versions/3.9/lib/python3.9/site-packages (from prompt-toolkit!=3.0.0,!=3.0.1,<3.1.0,>=2.0.0->IPython) (0.2.5)\n",
      "Requirement already satisfied: ipython-genutils in /Library/Frameworks/Python.framework/Versions/3.9/lib/python3.9/site-packages (from traitlets>=4.2->IPython) (0.2.0)\n",
      "\u001b[33mWARNING: You are using pip version 21.2.2; however, version 22.2.2 is available.\n",
      "You should consider upgrading via the '/Library/Frameworks/Python.framework/Versions/3.9/bin/python3 -m pip install --upgrade pip' command.\u001b[0m\n"
     ]
    }
   ],
   "source": [
    "!pip install binance-connector\n",
    "!pip install IPython"
   ]
  },
  {
   "cell_type": "code",
   "execution_count": 11,
   "metadata": {},
   "outputs": [
    {
     "ename": "ModuleNotFoundError",
     "evalue": "No module named 'binance.spot'; 'binance' is not a package",
     "output_type": "error",
     "traceback": [
      "\u001b[0;31m---------------------------------------------------------------------------\u001b[0m",
      "\u001b[0;31mModuleNotFoundError\u001b[0m                       Traceback (most recent call last)",
      "\u001b[0;32m<ipython-input-11-529ac6e09828>\u001b[0m in \u001b[0;36m<module>\u001b[0;34m\u001b[0m\n\u001b[0;32m----> 1\u001b[0;31m \u001b[0;32mfrom\u001b[0m \u001b[0mbinance\u001b[0m\u001b[0;34m.\u001b[0m\u001b[0mspot\u001b[0m \u001b[0;32mimport\u001b[0m \u001b[0mSpot\u001b[0m\u001b[0;34m\u001b[0m\u001b[0;34m\u001b[0m\u001b[0m\n\u001b[0m\u001b[1;32m      2\u001b[0m \u001b[0;32mimport\u001b[0m \u001b[0mpandas\u001b[0m \u001b[0;32mas\u001b[0m \u001b[0mpd\u001b[0m\u001b[0;34m\u001b[0m\u001b[0;34m\u001b[0m\u001b[0m\n\u001b[1;32m      3\u001b[0m \u001b[0;32mfrom\u001b[0m \u001b[0mIPython\u001b[0m\u001b[0;34m.\u001b[0m\u001b[0mdisplay\u001b[0m \u001b[0;32mimport\u001b[0m \u001b[0mdisplay\u001b[0m\u001b[0;34m\u001b[0m\u001b[0;34m\u001b[0m\u001b[0m\n\u001b[1;32m      4\u001b[0m \u001b[0;34m\u001b[0m\u001b[0m\n\u001b[1;32m      5\u001b[0m \u001b[0mbase_url\u001b[0m \u001b[0;34m=\u001b[0m \u001b[0;34m\"https://api.binance.com\"\u001b[0m\u001b[0;34m\u001b[0m\u001b[0;34m\u001b[0m\u001b[0m\n",
      "\u001b[0;31mModuleNotFoundError\u001b[0m: No module named 'binance.spot'; 'binance' is not a package"
     ]
    }
   ],
   "source": [
    "from binance.spot import Spot \n",
    "import pandas as pd\n",
    "from IPython.display import display\n",
    "\n",
    "base_url = \"https://api.binance.com\"\n",
    "base_url_test = \"https://testnet.binance.vision\"\n",
    "client = Spot(base_url=base_url)\n"
   ]
  },
  {
   "cell_type": "code",
   "execution_count": null,
   "metadata": {},
   "outputs": [],
   "source": [
    "exchange_info = client.exchange_info()\n",
    "#print(exchange_info)\n",
    "\n",
    "symbols = pd.DataFrame(exchange_info['symbols'])\n",
    "#print(symbols)\n",
    "\n",
    "btcusd = client.ticker_price('BTCUSDT')\n",
    "#print(btcusd)\n",
    "\n",
    "btcusd_history = client.klines('BTCUSDT', \"1h\", limit=100)\n",
    "#display(btcusd_history[:2])\n",
    "\n",
    "columns = ['time', 'open', 'high', 'low', 'close', 'volume', 'close_time', 'quote_asset_volume', 'number_of_trades'\n",
    ", 'taker_buy_base_asset_volume', 'taker_buy_quote_asset_volume', 'ignore']\n",
    "btcusd_history_df = pd.DataFrame(btcusd_history, columns=columns)\n",
    "btcusd_history_df['time'] = pd.to_datetime(btcusd_history_df['time'], unit='ms')\n",
    "\n",
    "display(btcusd_history_df)"
   ]
  },
  {
   "cell_type": "code",
   "execution_count": null,
   "metadata": {},
   "outputs": [],
   "source": []
  }
 ],
 "metadata": {
  "interpreter": {
   "hash": "db935ef07daf20e18b07dd03a55d33f6671ec172575218d542fc8399ec1672e1"
  },
  "kernelspec": {
   "display_name": "Python 3",
   "language": "python",
   "name": "python3"
  },
  "language_info": {
   "codemirror_mode": {
    "name": "ipython",
    "version": 3
   },
   "file_extension": ".py",
   "mimetype": "text/x-python",
   "name": "python",
   "nbconvert_exporter": "python",
   "pygments_lexer": "ipython3",
   "version": "3.9.2"
  }
 },
 "nbformat": 4,
 "nbformat_minor": 4
}
